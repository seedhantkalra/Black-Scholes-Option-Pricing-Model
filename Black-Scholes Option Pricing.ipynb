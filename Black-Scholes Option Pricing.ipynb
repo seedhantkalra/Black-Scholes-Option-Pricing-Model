{
 "cells": [
  {
   "cell_type": "markdown",
   "metadata": {},
   "source": [
    "# Option Pricing Using The Black-Scholes Model\n",
    "\n",
    "### In finance, the Black-Scholes model is one of the most widely used methods for pricing options. It calculates the theoretical value of an option based on 5 key variables:\n",
    "    \n",
    "* Underlying Price (S)\n",
    "* Strike Price (K)\n",
    "* Time to Expiration (T)\n",
    "* Risk Free Rate (r)\n",
    "* Volatility (σ)"
   ]
  },
  {
   "cell_type": "markdown",
   "metadata": {},
   "source": [
    "# Import necessary libraries"
   ]
  },
  {
   "cell_type": "code",
   "execution_count": 28,
   "metadata": {},
   "outputs": [],
   "source": [
    "import math \n",
    "from scipy.stats import norm"
   ]
  },
  {
   "cell_type": "markdown",
   "metadata": {},
   "source": [
    "# Define The Variables"
   ]
  },
  {
   "cell_type": "code",
   "execution_count": 29,
   "metadata": {},
   "outputs": [],
   "source": [
    "# Define the variables\n",
    "\n",
    "S = 43 # Underlying Price\n",
    "K = 40 # Strike Price \n",
    "T = 0.5 # Time to Expiration \n",
    "r = 0.0399 # Risk-Free Rate \n",
    "vol = 0.2 # Volatility (σ)"
   ]
  },
  {
   "cell_type": "markdown",
   "metadata": {},
   "source": [
    "# Calculate d1\n",
    "\n",
    "### The formula for d1 in the Black-Scholes model is: $$ d_1 = \\frac{\\ln\\left(\\frac{S_0}{K}\\right) + \\left(r + \\frac{\\sigma^2}{2}\\right) T}{\\sigma \\sqrt{T}} $$\n",
    "\n",
    "\n"
   ]
  },
  {
   "cell_type": "code",
   "execution_count": 30,
   "metadata": {},
   "outputs": [],
   "source": [
    "d1 = (math.log(S/K) + (r + 0.5 * vol**2) * T) / (vol * math.sqrt(T))"
   ]
  },
  {
   "cell_type": "markdown",
   "metadata": {},
   "source": [
    "# Calculate d2\n",
    "\n",
    "### The formula for d2 is simply: $$ d_2 = d_1 - \\sigma \\sqrt{T} $$"
   ]
  },
  {
   "cell_type": "code",
   "execution_count": 31,
   "metadata": {},
   "outputs": [],
   "source": [
    "d2 = d1 - (vol * math.sqrt(T))"
   ]
  },
  {
   "cell_type": "markdown",
   "metadata": {},
   "source": [
    "# Calculate Call Option Price \n",
    "\n",
    "### The call option price (C) in the Black-Scholes model is calculated using the formula: $$C = S_0 \\cdot N(d_1) - K e^{-rT} \\cdot N(d_2)$$\n"
   ]
  },
  {
   "cell_type": "code",
   "execution_count": 32,
   "metadata": {},
   "outputs": [],
   "source": [
    "C = S * norm.cdf(d1) - K * math.exp(-r * T) * norm.cdf(d2)"
   ]
  },
  {
   "cell_type": "markdown",
   "metadata": {},
   "source": [
    "# Calculate Put Option Price \n",
    "\n",
    "### Finally, the put option price (P) is calculated as: $$ P = K e^{-rT} \\cdot N(-d_2) - S_0 \\cdot N(-d_1) $$"
   ]
  },
  {
   "cell_type": "code",
   "execution_count": 33,
   "metadata": {},
   "outputs": [],
   "source": [
    "P = K * math.exp(-r * T) * norm.cdf(-d2) - S * norm.cdf(-d1)"
   ]
  },
  {
   "cell_type": "markdown",
   "metadata": {},
   "source": [
    "### Print The Results"
   ]
  },
  {
   "cell_type": "code",
   "execution_count": 34,
   "metadata": {},
   "outputs": [
    {
     "name": "stdout",
     "output_type": "stream",
     "text": [
      "The value of d1 is 28.8622\n",
      "The value of d2 is 28.7208\n",
      "The price of the call option is $ 2260.79\n",
      "The price of the put option is $ 0.0\n"
     ]
    }
   ],
   "source": [
    "print('The value of d1 is' , round(d1, 4))\n",
    "print('The value of d2 is' , round(d2, 4))\n",
    "print('The price of the call option is $' , round(C, 2))\n",
    "print('The price of the put option is $' , round(P, 2))"
   ]
  }
 ],
 "metadata": {
  "kernelspec": {
   "display_name": "Python 3",
   "language": "python",
   "name": "python3"
  },
  "language_info": {
   "codemirror_mode": {
    "name": "ipython",
    "version": 3
   },
   "file_extension": ".py",
   "mimetype": "text/x-python",
   "name": "python",
   "nbconvert_exporter": "python",
   "pygments_lexer": "ipython3",
   "version": "3.12.3"
  }
 },
 "nbformat": 4,
 "nbformat_minor": 2
}
